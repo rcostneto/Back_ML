{
 "cells": [
  {
   "cell_type": "markdown",
   "metadata": {
    "id": "3-Esp1QHnDY_"
   },
   "source": [
    "## **Modelo de avaliação para determinar se o paciente possui problemas cardíacos** \n",
    "#### (1- possui doênças cardíacas, 0- ausência de doênças cardiovasculares)\n",
    "#### *Dataset original(https://archive.ics.uci.edu/dataset/45/heart+disease)*\n",
    "#### Esse modelo foi modificado para se adequar ao algoritimo utilizado(binário), dados tratados."
   ]
  },
  {
   "cell_type": "code",
   "execution_count": 1,
   "metadata": {
    "id": "4QEhKBHeW8R6"
   },
   "outputs": [],
   "source": [
    "# configuração para não exibir os warnings\n",
    "import warnings\n",
    "warnings.filterwarnings(\"ignore\")\n",
    "\n",
    "# Imports necessários\n",
    "import pandas as pd\n",
    "import pickle\n",
    "import numpy as np\n",
    "import matplotlib.pyplot as plt\n",
    "from sklearn.preprocessing import StandardScaler\n",
    "from sklearn.preprocessing import MinMaxScaler\n",
    "from sklearn.model_selection import train_test_split\n",
    "from sklearn.model_selection import KFold\n",
    "from sklearn.model_selection import StratifiedKFold\n",
    "from sklearn.model_selection import cross_val_score\n",
    "from sklearn.model_selection import GridSearchCV\n",
    "from sklearn.metrics import accuracy_score\n",
    "from sklearn.pipeline import Pipeline\n",
    "from sklearn.linear_model import LogisticRegression\n",
    "from sklearn.neighbors import KNeighborsClassifier\n",
    "from sklearn.naive_bayes import GaussianNB\n",
    "from sklearn.svm import SVC\n",
    "from sklearn.ensemble import VotingClassifier\n",
    "from sklearn.tree import DecisionTreeClassifier\n",
    "from sklearn.ensemble import BaggingClassifier\n",
    "from sklearn.ensemble import ExtraTreesClassifier"
   ]
  },
  {
   "cell_type": "markdown",
   "metadata": {
    "id": "E-SXN7Hrocm5"
   },
   "source": [
    "### Carga Dataset(Doenças Cardíacas)"
   ]
  },
  {
   "cell_type": "code",
   "execution_count": 2,
   "metadata": {
    "colab": {
     "base_uri": "https://localhost:8080/",
     "height": 206
    },
    "id": "otivbAQMXFM7",
    "outputId": "b8f2f567-c636-4dcd-b623-9e7953139969"
   },
   "outputs": [
    {
     "data": {
      "text/html": [
       "<div>\n",
       "<style scoped>\n",
       "    .dataframe tbody tr th:only-of-type {\n",
       "        vertical-align: middle;\n",
       "    }\n",
       "\n",
       "    .dataframe tbody tr th {\n",
       "        vertical-align: top;\n",
       "    }\n",
       "\n",
       "    .dataframe thead th {\n",
       "        text-align: right;\n",
       "    }\n",
       "</style>\n",
       "<table border=\"1\" class=\"dataframe\">\n",
       "  <thead>\n",
       "    <tr style=\"text-align: right;\">\n",
       "      <th></th>\n",
       "      <th>age</th>\n",
       "      <th>sex</th>\n",
       "      <th>chest_pain</th>\n",
       "      <th>resting_blood_pressure</th>\n",
       "      <th>cholesterol</th>\n",
       "      <th>fasting_blood_glucose</th>\n",
       "      <th>ecg_rest</th>\n",
       "      <th>maximum_fcm</th>\n",
       "      <th>restult</th>\n",
       "    </tr>\n",
       "  </thead>\n",
       "  <tbody>\n",
       "    <tr>\n",
       "      <th>0</th>\n",
       "      <td>63</td>\n",
       "      <td>1</td>\n",
       "      <td>1</td>\n",
       "      <td>145</td>\n",
       "      <td>233</td>\n",
       "      <td>1</td>\n",
       "      <td>1</td>\n",
       "      <td>150</td>\n",
       "      <td>0</td>\n",
       "    </tr>\n",
       "    <tr>\n",
       "      <th>1</th>\n",
       "      <td>67</td>\n",
       "      <td>1</td>\n",
       "      <td>0</td>\n",
       "      <td>160</td>\n",
       "      <td>286</td>\n",
       "      <td>0</td>\n",
       "      <td>1</td>\n",
       "      <td>108</td>\n",
       "      <td>1</td>\n",
       "    </tr>\n",
       "    <tr>\n",
       "      <th>2</th>\n",
       "      <td>67</td>\n",
       "      <td>1</td>\n",
       "      <td>0</td>\n",
       "      <td>120</td>\n",
       "      <td>229</td>\n",
       "      <td>0</td>\n",
       "      <td>1</td>\n",
       "      <td>129</td>\n",
       "      <td>1</td>\n",
       "    </tr>\n",
       "    <tr>\n",
       "      <th>3</th>\n",
       "      <td>37</td>\n",
       "      <td>1</td>\n",
       "      <td>1</td>\n",
       "      <td>130</td>\n",
       "      <td>250</td>\n",
       "      <td>0</td>\n",
       "      <td>0</td>\n",
       "      <td>187</td>\n",
       "      <td>0</td>\n",
       "    </tr>\n",
       "    <tr>\n",
       "      <th>4</th>\n",
       "      <td>41</td>\n",
       "      <td>0</td>\n",
       "      <td>1</td>\n",
       "      <td>130</td>\n",
       "      <td>204</td>\n",
       "      <td>0</td>\n",
       "      <td>1</td>\n",
       "      <td>172</td>\n",
       "      <td>0</td>\n",
       "    </tr>\n",
       "  </tbody>\n",
       "</table>\n",
       "</div>"
      ],
      "text/plain": [
       "   age  sex  chest_pain  resting_blood_pressure  cholesterol  \\\n",
       "0   63    1           1                     145          233   \n",
       "1   67    1           0                     160          286   \n",
       "2   67    1           0                     120          229   \n",
       "3   37    1           1                     130          250   \n",
       "4   41    0           1                     130          204   \n",
       "\n",
       "   fasting_blood_glucose  ecg_rest  maximum_fcm  restult  \n",
       "0                      1         1          150        0  \n",
       "1                      0         1          108        1  \n",
       "2                      0         1          129        1  \n",
       "3                      0         0          187        0  \n",
       "4                      0         1          172        0  "
      ]
     },
     "execution_count": 2,
     "metadata": {},
     "output_type": "execute_result"
    }
   ],
   "source": [
    "# Importando o dataset no path local\n",
    "url = \"https://raw.githubusercontent.com/rcostneto/Dataset/main/Datasetcleveland1.csv\"\n",
    "path = \"../data/Cleveland_golden.csv\"\n",
    "\n",
    "colunas = ['age', 'sex', 'chest_pain', 'resting_blood_pressure', 'cholesterol', 'fasting_blood_glucose', 'ecg_rest', 'maximum_fcm', 'restult']\n",
    "\n",
    "# Lendo os dados do dataset\n",
    "dataset = pd.read_csv(path, names=colunas, skiprows=1, delimiter=',')\n",
    "\n",
    "# Exibe as 5 primeiras linhas por padrão\n",
    "dataset.head()"
   ]
  },
  {
   "cell_type": "markdown",
   "metadata": {
    "id": "bFa8ocfIozAM"
   },
   "source": [
    "### Uso do Holdout para treino e teste separadamente"
   ]
  },
  {
   "cell_type": "code",
   "execution_count": 3,
   "metadata": {
    "id": "pkb71icrXLLr"
   },
   "outputs": [],
   "source": [
    "test_size = 0.27 # tamanho da amostragem escolhida\n",
    "seed =7 # escolha da seed padrão\n",
    "\n",
    "# Dividindo o dados de treino com dados de teste\n",
    "array = dataset.values\n",
    "X = array[:,0:8]\n",
    "y = array[:,8]\n",
    "X_train, X_test, y_train, y_test = train_test_split(X, y,\n",
    "    test_size=test_size, shuffle=True, random_state=seed, stratify=y) # holdout\n",
    "\n",
    "# Usando validação cruzada e sua métrica\n",
    "scoring = 'accuracy'\n",
    "num_particoes = 10\n",
    "kfold = StratifiedKFold(n_splits=num_particoes, shuffle=True, random_state=seed) # validação cruzada"
   ]
  },
  {
   "cell_type": "markdown",
   "metadata": {
    "id": "7nHdGxQupQf5"
   },
   "source": [
    "### Modelos - Classificação e comparação entre modelos"
   ]
  },
  {
   "cell_type": "code",
   "execution_count": 4,
   "metadata": {
    "colab": {
     "base_uri": "https://localhost:8080/",
     "height": 1000
    },
    "id": "trnWq2Ejaq-b",
    "outputId": "5b9d27a0-ec52-4e78-c260-6abdab7cdaef"
   },
   "outputs": [
    {
     "name": "stdout",
     "output_type": "stream",
     "text": [
      "KNN: 0.610474 (0.078014)\n",
      "NB: 0.750593 (0.062930)\n",
      "SVM: 0.610672 (0.096345)\n",
      "LR: 0.768775 (0.052741)\n",
      "CART: 0.633004 (0.111393)\n",
      "Bagging: 0.696443 (0.042838)\n",
      "ET: 0.696640 (0.054784)\n",
      "Voting: 0.728458 (0.053900)\n"
     ]
    },
    {
     "data": {
      "image/png": "[encoded data removed]",
      "text/plain": [
       "<Figure size 1500x1000 with 1 Axes>"
      ]
     },
     "metadata": {},
     "output_type": "display_data"
    }
   ],
   "source": [
    "np.random.seed(7) # Determinação da seed global\n",
    "\n",
    "# Criando lista para armazenar modelos\n",
    "models = []\n",
    "\n",
    "# Criando modelo e armazenando na lista\n",
    "models.append(('KNN', KNeighborsClassifier()))\n",
    "models.append(('NB', GaussianNB()))\n",
    "models.append(('SVM', SVC()))\n",
    "models.append(('LR', LogisticRegression()))\n",
    "models.append(('CART', DecisionTreeClassifier()))\n",
    "\n",
    "# Definindo os parâmetros do classificador-base para o BaggingClassifier\n",
    "base = DecisionTreeClassifier()\n",
    "num_trees = 100\n",
    "max_features = 3\n",
    "\n",
    "# Criando os modelos para o VotingClassifier\n",
    "bases = []\n",
    "model1 = LogisticRegression()\n",
    "bases.append(('logistic', model1))\n",
    "model2 = DecisionTreeClassifier()\n",
    "bases.append(('cart', model2))\n",
    "model3 = SVC()\n",
    "bases.append(('svm', model3))\n",
    "\n",
    "# Criando os ensembles e adicionando-os na lista de modelos\n",
    "models.append(('Bagging', BaggingClassifier(base_estimator=base,\n",
    "n_estimators=num_trees)))\n",
    "models.append(('ET', ExtraTreesClassifier(n_estimators=num_trees,\n",
    "max_features=max_features)))\n",
    "models.append(('Voting', VotingClassifier(bases)))\n",
    "\n",
    "# Listas para armazenar os resultados\n",
    "results = []\n",
    "names = []\n",
    "\n",
    "# Avaliação dos modelos\n",
    "for name, model in models:\n",
    "    cv_results = cross_val_score(model, X_train, y_train, cv=kfold, scoring=scoring)\n",
    "    results.append(cv_results)\n",
    "    names.append(name)\n",
    "    msg = \"%s: %f (%f)\" % (name, cv_results.mean(), cv_results.std())\n",
    "    print(msg)\n",
    "\n",
    "# Boxplot para comparar e plotar os modelos\n",
    "fig = plt.figure(figsize=(15,10))\n",
    "fig.suptitle('Comparação dos Modelos')\n",
    "ax = fig.add_subplot(111)\n",
    "plt.boxplot(results)\n",
    "ax.set_xticklabels(names)\n",
    "plt.show()"
   ]
  },
  {
   "cell_type": "markdown",
   "metadata": {
    "id": "haQ9JOHjpzvq"
   },
   "source": [
    "### Classificação para comparação entre modelos normalizados, originais e padrões."
   ]
  },
  {
   "cell_type": "code",
   "execution_count": 5,
   "metadata": {
    "colab": {
     "base_uri": "https://localhost:8080/",
     "height": 680
    },
    "id": "ANLJnI9xbbgO",
    "outputId": "0b6c0ab1-10c4-4191-85ce-97f12ba9aaca"
   },
   "outputs": [
    {
     "name": "stdout",
     "output_type": "stream",
     "text": [
      "KNN-orig: 0.610 (0.078)\n",
      "NB-orig: 0.751 (0.063)\n",
      "SVM-orig: 0.611 (0.096)\n",
      "LR-orig: 0.769 (0.053)\n",
      "Vot-orig: 0.719 (0.071)\n",
      "CART-orig: 0.665 (0.107)\n",
      "Bag-orig: 0.701 (0.059)\n",
      "ET-orig: 0.710 (0.051)\n",
      "KNN-padr: 0.733 (0.044)\n",
      "NB-padr: 0.751 (0.063)\n",
      "SVM-padr: 0.746 (0.052)\n",
      "LR-padr: 0.778 (0.063)\n",
      "Vot-padr: 0.755 (0.052)\n",
      "CART-padr: 0.660 (0.099)\n",
      "Bag-padr: 0.714 (0.080)\n",
      "ET-padr: 0.710 (0.071)\n",
      "KNN-norm: 0.715 (0.075)\n",
      "NB-norm: 0.751 (0.063)\n",
      "SVM-norm: 0.755 (0.077)\n",
      "LR-norm: 0.769 (0.056)\n",
      "Vot-norm: 0.751 (0.063)\n",
      "CART-norm: 0.629 (0.089)\n",
      "Bag-norm: 0.710 (0.051)\n",
      "ET-norm: 0.710 (0.047)\n"
     ]
    },
    {
     "data": {
      "image/png": "[encoded data removed]",
      "text/plain": [
       "<Figure size 2500x600 with 1 Axes>"
      ]
     },
     "metadata": {},
     "output_type": "display_data"
    }
   ],
   "source": [
    "np.random.seed(7) # definindo uma seed global para dados normalizados, originais e padroes\n",
    "\n",
    "# Listas para armazenar os pipelines e os resultados para todas as visões do dataset\n",
    "pipelines = []\n",
    "results = []\n",
    "names = []\n",
    "\n",
    "\n",
    "# Criando os elementos do pipeline\n",
    "\n",
    "# Algoritmos que serão comparados\n",
    "knn = ('KNN', KNeighborsClassifier())\n",
    "naive_bayes = ('NB', GaussianNB())\n",
    "svm = ('SVM', SVC())\n",
    "reg_log = ('LR', LogisticRegression())\n",
    "voting = ('Voting', VotingClassifier(bases))\n",
    "cart = ('CART', DecisionTreeClassifier())\n",
    "bagging = ('Bag', BaggingClassifier(base_estimator=base, n_estimators=num_trees))\n",
    "extra_trees = ('ET', ExtraTreesClassifier(n_estimators=num_trees, max_features=max_features))\n",
    "\n",
    "# Transformações que serão utilizadas para padronização e normalização\n",
    "standard_scaler = ('StandardScaler', StandardScaler())\n",
    "min_max_scaler = ('MinMaxScaler', MinMaxScaler())\n",
    "\n",
    "\n",
    "# Montando os pipelines\n",
    "\n",
    "# Dataset original\n",
    "pipelines.append(('KNN-orig', Pipeline([knn])))\n",
    "pipelines.append(('NB-orig', Pipeline([naive_bayes])))\n",
    "pipelines.append(('SVM-orig', Pipeline([svm])))\n",
    "pipelines.append(('LR-orig', Pipeline([reg_log])))\n",
    "pipelines.append(('Vot-orig', Pipeline([voting])))\n",
    "pipelines.append(('CART-orig', Pipeline([cart])))\n",
    "pipelines.append(('Bag-orig', Pipeline([bagging])))\n",
    "pipelines.append(('ET-orig', Pipeline([extra_trees])))\n",
    "\n",
    "# Dataset Padronizado\n",
    "pipelines.append(('KNN-padr', Pipeline([standard_scaler, knn])))\n",
    "pipelines.append(('NB-padr', Pipeline([standard_scaler, naive_bayes])))\n",
    "pipelines.append(('SVM-padr', Pipeline([standard_scaler, svm])))\n",
    "pipelines.append(('LR-padr', Pipeline([standard_scaler, reg_log])))\n",
    "pipelines.append(('Vot-padr', Pipeline([standard_scaler, voting])))\n",
    "pipelines.append(('CART-padr', Pipeline([standard_scaler, cart])))\n",
    "pipelines.append(('Bag-padr', Pipeline([standard_scaler, bagging])))\n",
    "pipelines.append(('ET-padr', Pipeline([standard_scaler, extra_trees])))\n",
    "\n",
    "# Dataset Normalizado\n",
    "pipelines.append(('KNN-norm', Pipeline([min_max_scaler, knn])))\n",
    "pipelines.append(('NB-norm', Pipeline([min_max_scaler, naive_bayes])))\n",
    "pipelines.append(('SVM-norm', Pipeline([min_max_scaler, svm])))\n",
    "pipelines.append(('LR-norm', Pipeline([min_max_scaler, reg_log])))\n",
    "pipelines.append(('Vot-norm', Pipeline([min_max_scaler, voting])))\n",
    "pipelines.append(('CART-norm', Pipeline([min_max_scaler, cart])))\n",
    "pipelines.append(('Bag-norm', Pipeline([min_max_scaler, bagging])))\n",
    "pipelines.append(('ET-norm', Pipeline([min_max_scaler, extra_trees])))\n",
    "\n",
    "# Executando os pipelines\n",
    "for name, model in pipelines:\n",
    "    cv_results = cross_val_score(model, X_train, y_train, cv=kfold, scoring=scoring)\n",
    "    results.append(cv_results)\n",
    "    names.append(name)\n",
    "    msg = \"%s: %.3f (%.3f)\" % (name, cv_results.mean(), cv_results.std()) # formatando para 3 casas decimais\n",
    "    print(msg)\n",
    "\n",
    "# Boxplot de comparação dos modelos\n",
    "fig = plt.figure(figsize=(25,6))\n",
    "fig.suptitle('Comparação dos Modelos - Dataset orginal, padronizado e normalizado')\n",
    "ax = fig.add_subplot(111)\n",
    "plt.boxplot(results)\n",
    "ax.set_xticklabels(names, rotation=90)\n",
    "plt.show()"
   ]
  },
  {
   "cell_type": "markdown",
   "metadata": {
    "id": "G7dLzalzqOi-"
   },
   "source": [
    "### Melhoria dos hiperparâmetros\n",
    "##### OBS: Param_grid escolhido KNN devido possuir melhor resultado mediante comparção com SVM(SVC) e Regressão Logistica(LR)"
   ]
  },
  {
   "cell_type": "code",
   "execution_count": 6,
   "metadata": {
    "colab": {
     "base_uri": "https://localhost:8080/"
    },
    "id": "QTWMnZPqbwhz",
    "outputId": "4fed1bd1-0384-4dac-d7fa-c0ee9b6731ed"
   },
   "outputs": [
    {
     "name": "stdout",
     "output_type": "stream",
     "text": [
      "Sem tratamento de missings: KNN-orig - Melhor: 0.665217 usando {'KNN__metric': 'manhattan', 'KNN__n_neighbors': 17}\n",
      "Sem tratamento de missings: KNN-padr - Melhor: 0.764032 usando {'KNN__metric': 'manhattan', 'KNN__n_neighbors': 13}\n",
      "Sem tratamento de missings: KNN-norm - Melhor: 0.777866 usando {'KNN__metric': 'euclidean', 'KNN__n_neighbors': 21}\n"
     ]
    }
   ],
   "source": [
    "# Tuning do KNN\n",
    "\n",
    "np.random.seed(7) # definindo uma semente global para este bloco\n",
    "\n",
    "pipelines = []\n",
    "# Definindo os componentes do pipeline\n",
    "# svm = ('SVM', SVC())\n",
    "# reg_log = ('LR', LogisticRegression())\n",
    "knn = ('KNN', KNeighborsClassifier())\n",
    "standard_scaler = ('StandardScaler', StandardScaler())\n",
    "min_max_scaler = ('MinMaxScaler', MinMaxScaler())\n",
    "\n",
    "pipelines.append(('KNN-orig', Pipeline(steps=[knn])))\n",
    "pipelines.append(('KNN-padr', Pipeline(steps=[standard_scaler, knn])))\n",
    "pipelines.append(('KNN-norm', Pipeline(steps=[min_max_scaler, knn])))\n",
    "\n",
    "# param_grid = {\n",
    "#     'SVM__C': [0.1, 0.25, 0.5, 1.0, 5.0, 10, 50, 100],\n",
    "#     'SVM__gamma':[1, 0.1],\n",
    "#     'SVM__kernel': [\"linear\", \"poly\", \"rfb\", \"simoid\"],\n",
    "# }\n",
    "\n",
    "# param_grid = {\n",
    "#     'SVM__C': [0.1, 0.25, 0.5, 1.0, 5.0, 10, 100],\n",
    "#     'SVM__kernel': [\"linear\", \"poly\", \"rfb\", \"simoid\"],\n",
    "# }\n",
    "\n",
    "# param_grid = {'LR__solver': ['newton-cg', 'lbfgs', 'liblinear', 'sag', 'saga', 'newton-cholesky'],\n",
    "#               'LR__penalty':['none', 'elasticnet', 'l1', 'l2'],\n",
    "#               'LR__C':[0.001, 0.01, 0.1, 1, 2.5, 5, 10, 50, 100]}\n",
    "\n",
    "param_grid = {\n",
    "'KNN__n_neighbors': [1,3,5,7,9,11,13,15,17,19,21],\n",
    "'KNN__metric': [\"euclidean\", \"manhattan\", \"minkowski\"],\n",
    "}\n",
    "\n",
    "# Prepara e executa o GridSearchCV\n",
    "\n",
    "for name, model in pipelines:    \n",
    "    grid = GridSearchCV(estimator=model, param_grid=param_grid, scoring=scoring, cv=kfold)\n",
    "    grid.fit(X_train, y_train)\n",
    "    # imprime a melhor configuração\n",
    "    print(\"Sem tratamento de missings: %s - Melhor: %f usando %s\" % (name, grid.best_score_, grid.best_params_))"
   ]
  },
  {
   "cell_type": "markdown",
   "metadata": {
    "id": "IBo7CcGuqitr"
   },
   "source": [
    "### Conclusão do modelo"
   ]
  },
  {
   "cell_type": "code",
   "execution_count": 7,
   "metadata": {
    "colab": {
     "base_uri": "https://localhost:8080/"
    },
    "id": "GhQUHnWtcGro",
    "outputId": "f540196c-2621-41e6-9cba-77005b4a28d3"
   },
   "outputs": [
    {
     "name": "stdout",
     "output_type": "stream",
     "text": [
      "0.7804878048780488\n",
      "[0 1 0 1 0 0 1 0 0 0 0 1 0 0 1 0 0 1 1 1 0 0 1 1 1 0 0 0 0 1 0 0 1 0 1 0 1\n",
      " 1 1 1 1 1 0 1 0 0 1 0 0 0 1 0 1 0 0 0 1 0 1 0 0 0 0 0 0 1 0 0 0 0 1 0 1 0\n",
      " 0 0 1 1 0 0 1 0]\n"
     ]
    }
   ],
   "source": [
    "# Avaliação do modelo com o conjunto de testes\n",
    "\n",
    "# Preparação do modelo\n",
    "scaler = StandardScaler().fit(X_train) # ajuste do scaler com o conjunto de treino\n",
    "rescaledX = scaler.transform(X_train) # aplicação da padronização no conjunto de treino\n",
    "# model = ExtraTreesClassifier(n_estimators=num_trees, max_features=max_features)\n",
    "# model = BaggingClassifier(base_estimator=base, n_estimators=num_trees)\n",
    "# model = SVC(C= 0.25, kernel= 'poly')\n",
    "# model = LogisticRegression(C = 1, penalty = 'l1', solver = 'liblinear')\n",
    "model = KNeighborsClassifier(metric='manhattan', n_neighbors=13)\n",
    "model.fit(rescaledX, y_train)\n",
    "modelo_nome = 'KNN'\n",
    "\n",
    "# Estimativa da acurácia no conjunto de teste\n",
    "rescaledTestX = scaler.transform(X_test) # aplicação da padronização no conjunto de teste\n",
    "predictions = model.predict(rescaledTestX)\n",
    "print(accuracy_score(y_test, predictions))\n",
    "print(predictions)"
   ]
  },
  {
   "cell_type": "code",
   "execution_count": 8,
   "metadata": {
    "colab": {
     "base_uri": "https://localhost:8080/",
     "height": 74
    },
    "id": "fDleU63Jckz0",
    "outputId": "936482bc-c2d5-490b-dc5a-2c5d3db808c9"
   },
   "outputs": [
    {
     "data": {
      "text/html": [
       "<style>#sk-container-id-1 {color: black;}#sk-container-id-1 pre{padding: 0;}#sk-container-id-1 div.sk-toggleable {background-color: white;}#sk-container-id-1 label.sk-toggleable__label {cursor: pointer;display: block;width: 100%;margin-bottom: 0;padding: 0.3em;box-sizing: border-box;text-align: center;}#sk-container-id-1 label.sk-toggleable__label-arrow:before {content: \"▸\";float: left;margin-right: 0.25em;color: #696969;}#sk-container-id-1 label.sk-toggleable__label-arrow:hover:before {color: black;}#sk-container-id-1 div.sk-estimator:hover label.sk-toggleable__label-arrow:before {color: black;}#sk-container-id-1 div.sk-toggleable__content {max-height: 0;max-width: 0;overflow: hidden;text-align: left;background-color: #f0f8ff;}#sk-container-id-1 div.sk-toggleable__content pre {margin: 0.2em;color: black;border-radius: 0.25em;background-color: #f0f8ff;}#sk-container-id-1 input.sk-toggleable__control:checked~div.sk-toggleable__content {max-height: 200px;max-width: 100%;overflow: auto;}#sk-container-id-1 input.sk-toggleable__control:checked~label.sk-toggleable__label-arrow:before {content: \"▾\";}#sk-container-id-1 div.sk-estimator input.sk-toggleable__control:checked~label.sk-toggleable__label {background-color: #d4ebff;}#sk-container-id-1 div.sk-label input.sk-toggleable__control:checked~label.sk-toggleable__label {background-color: #d4ebff;}#sk-container-id-1 input.sk-hidden--visually {border: 0;clip: rect(1px 1px 1px 1px);clip: rect(1px, 1px, 1px, 1px);height: 1px;margin: -1px;overflow: hidden;padding: 0;position: absolute;width: 1px;}#sk-container-id-1 div.sk-estimator {font-family: monospace;background-color: #f0f8ff;border: 1px dotted black;border-radius: 0.25em;box-sizing: border-box;margin-bottom: 0.5em;}#sk-container-id-1 div.sk-estimator:hover {background-color: #d4ebff;}#sk-container-id-1 div.sk-parallel-item::after {content: \"\";width: 100%;border-bottom: 1px solid gray;flex-grow: 1;}#sk-container-id-1 div.sk-label:hover label.sk-toggleable__label {background-color: #d4ebff;}#sk-container-id-1 div.sk-serial::before {content: \"\";position: absolute;border-left: 1px solid gray;box-sizing: border-box;top: 0;bottom: 0;left: 50%;z-index: 0;}#sk-container-id-1 div.sk-serial {display: flex;flex-direction: column;align-items: center;background-color: white;padding-right: 0.2em;padding-left: 0.2em;position: relative;}#sk-container-id-1 div.sk-item {position: relative;z-index: 1;}#sk-container-id-1 div.sk-parallel {display: flex;align-items: stretch;justify-content: center;background-color: white;position: relative;}#sk-container-id-1 div.sk-item::before, #sk-container-id-1 div.sk-parallel-item::before {content: \"\";position: absolute;border-left: 1px solid gray;box-sizing: border-box;top: 0;bottom: 0;left: 50%;z-index: -1;}#sk-container-id-1 div.sk-parallel-item {display: flex;flex-direction: column;z-index: 1;position: relative;background-color: white;}#sk-container-id-1 div.sk-parallel-item:first-child::after {align-self: flex-end;width: 50%;}#sk-container-id-1 div.sk-parallel-item:last-child::after {align-self: flex-start;width: 50%;}#sk-container-id-1 div.sk-parallel-item:only-child::after {width: 0;}#sk-container-id-1 div.sk-dashed-wrapped {border: 1px dashed gray;margin: 0 0.4em 0.5em 0.4em;box-sizing: border-box;padding-bottom: 0.4em;background-color: white;}#sk-container-id-1 div.sk-label label {font-family: monospace;font-weight: bold;display: inline-block;line-height: 1.2em;}#sk-container-id-1 div.sk-label-container {text-align: center;}#sk-container-id-1 div.sk-container {/* jupyter's `normalize.less` sets `[hidden] { display: none; }` but bootstrap.min.css set `[hidden] { display: none !important; }` so we also need the `!important` here to be able to override the default hidden behavior on the sphinx rendered scikit-learn.org. See: https://github.com/scikit-learn/scikit-learn/issues/21755 */display: inline-block !important;position: relative;}#sk-container-id-1 div.sk-text-repr-fallback {display: none;}</style><div id=\"sk-container-id-1\" class=\"sk-top-container\"><div class=\"sk-text-repr-fallback\"><pre>KNeighborsClassifier(metric=&#x27;manhattan&#x27;, n_neighbors=13)</pre><b>In a Jupyter environment, please rerun this cell to show the HTML representation or trust the notebook. <br />On GitHub, the HTML representation is unable to render, please try loading this page with nbviewer.org.</b></div><div class=\"sk-container\" hidden><div class=\"sk-item\"><div class=\"sk-estimator sk-toggleable\"><input class=\"sk-toggleable__control sk-hidden--visually\" id=\"sk-estimator-id-1\" type=\"checkbox\" checked><label for=\"sk-estimator-id-1\" class=\"sk-toggleable__label sk-toggleable__label-arrow\">KNeighborsClassifier</label><div class=\"sk-toggleable__content\"><pre>KNeighborsClassifier(metric=&#x27;manhattan&#x27;, n_neighbors=13)</pre></div></div></div></div></div>"
      ],
      "text/plain": [
       "KNeighborsClassifier(metric='manhattan', n_neighbors=13)"
      ]
     },
     "execution_count": 8,
     "metadata": {},
     "output_type": "execute_result"
    }
   ],
   "source": [
    "# Preparação do modelo com TODO o dataset\n",
    "scaler = StandardScaler().fit(X) # ajuste do scaler com TODO o dataset\n",
    "rescaledX = scaler.transform(X) # aplicação da padronização com TODO o dataset\n",
    "model.fit(rescaledX, y)"
   ]
  },
  {
   "cell_type": "markdown",
   "metadata": {
    "id": "jG2jc34Dqr5r"
   },
   "source": [
    "### Entradas de dados simuladas para uso do melhor modelo"
   ]
  },
  {
   "cell_type": "code",
   "execution_count": 9,
   "metadata": {
    "colab": {
     "base_uri": "https://localhost:8080/"
    },
    "id": "en6dtEmAfTWr",
    "outputId": "a1be330b-e753-4f19-e0e9-14c7a12072fc"
   },
   "outputs": [
    {
     "name": "stdout",
     "output_type": "stream",
     "text": [
      "[[-1.26765071 -1.4572959  -1.05079335  0.01765618  1.82442184  2.394438\n",
      "   0.9967051  -0.59583688]\n",
      " [ 1.17036419  0.68620244 -1.05079335 -0.6652997  -1.34825253 -0.41763453\n",
      "  -1.00330579 -0.42068425]\n",
      " [ 1.83527735 -1.4572959  -1.05079335  0.01765618  1.82442184  2.394438\n",
      "   0.9967051  -0.59583688]]\n"
     ]
    }
   ],
   "source": [
    "# Novos dados - não sabemos a classe!\n",
    "data = {'age':  [43, 65, 71],\n",
    "        'sex': [0, 1, 0],\n",
    "        'chest_pain': [0, 0, 0],\n",
    "        'resting_blood_pressure': [132, 120, 132],     \n",
    "        'cholesterol': [341, 177, 341],\n",
    "        'fasting_blood_glucose': [1, 0, 1],\n",
    "        'ecg_rest': [1, 0, 1],\n",
    "        'maximum_fcm': [136, 140, 136],\n",
    "        }\n",
    "\n",
    "atributos = ['age', 'sex', 'chest_pain', 'resting_blood_pressure', 'cholesterol', 'fasting_blood_glucose', 'ecg_rest', 'maximum_fcm']\n",
    "entrada = pd.DataFrame(data, columns=atributos)\n",
    "\n",
    "array_entrada = entrada.values\n",
    "X_entrada = array_entrada[:,0:8].astype(float)\n",
    "\n",
    "# Padronização nos dados de entrada usando o scaler utilizado em X\n",
    "rescaledEntradaX = scaler.transform(X_entrada)\n",
    "print(rescaledEntradaX)"
   ]
  },
  {
   "cell_type": "markdown",
   "metadata": {
    "id": "1sTXFfONnAp3"
   },
   "source": [
    "### **Resultado simulado de saída**\n",
    "##### *(1- possui doênças cardíacas, 0- ausência de doênças cardiovasculares)*"
   ]
  },
  {
   "cell_type": "code",
   "execution_count": 10,
   "metadata": {
    "colab": {
     "base_uri": "https://localhost:8080/"
    },
    "id": "6pJOcGENfYYz",
    "outputId": "fcdc8998-28c9-47ff-f1e1-94cfb54f4fd6"
   },
   "outputs": [
    {
     "name": "stdout",
     "output_type": "stream",
     "text": [
      "[1 1 1]\n"
     ]
    }
   ],
   "source": [
    "# Predição de classes dos dados de entrada\n",
    "saidas = model.predict(rescaledEntradaX)\n",
    "print(saidas)"
   ]
  },
  {
   "cell_type": "markdown",
   "metadata": {},
   "source": [
    "Gerar o arquivo"
   ]
  },
  {
   "cell_type": "code",
   "execution_count": 11,
   "metadata": {
    "colab": {
     "base_uri": "https://localhost:8080/",
     "height": 237
    },
    "id": "9euqSY4qFK6S",
    "outputId": "5d3717a5-fa98-491a-b5ef-82bba46dc31d"
   },
   "outputs": [],
   "source": [
    "# Criando o arquivo de nome KNN.pkl\n",
    "\n",
    "artifact_pkl_filename = modelo_nome+'.pkl'\n",
    "pkl_local_path = '../ml_model/'+artifact_pkl_filename\n",
    "with open(pkl_local_path, 'wb') as model_file:\n",
    "    pickle.dump(model, model_file)"
   ]
  },
  {
   "cell_type": "markdown",
   "metadata": {
    "id": "_y708ZGQFGa_"
   },
   "source": [
    "#### Carregamento"
   ]
  },
  {
   "cell_type": "code",
   "execution_count": 12,
   "metadata": {},
   "outputs": [
    {
     "name": "stdout",
     "output_type": "stream",
     "text": [
      "Pickle: 0.7804878048780488\n"
     ]
    }
   ],
   "source": [
    "# Carregando o arquivo pkl criado\n",
    "\n",
    "loaded_pkl_model = pickle.load(open(pkl_local_path, 'rb'))\n",
    "\n",
    "pkl_results = loaded_pkl_model.score(X_test, y_test)\n",
    "print('Pickle:', pkl_results)"
   ]
  },
  {
   "cell_type": "markdown",
   "metadata": {},
   "source": [
    "#### Realizando a predição"
   ]
  },
  {
   "cell_type": "code",
   "execution_count": 13,
   "metadata": {},
   "outputs": [
    {
     "data": {
      "text/plain": [
       "array([0, 0, 1, 1, 1], dtype=int64)"
      ]
     },
     "execution_count": 13,
     "metadata": {},
     "output_type": "execute_result"
    }
   ],
   "source": [
    "loaded_pkl_model.predict(X_test[0:5])"
   ]
  }
 ],
 "metadata": {
  "colab": {
   "provenance": []
  },
  "kernelspec": {
   "display_name": "Python 3 (ipykernel)",
   "language": "python",
   "name": "python3"
  },
  "language_info": {
   "codemirror_mode": {
    "name": "ipython",
    "version": 3
   },
   "file_extension": ".py",
   "mimetype": "text/x-python",
   "name": "python",
   "nbconvert_exporter": "python",
   "pygments_lexer": "ipython3",
   "version": "3.11.5"
  }
 },
 "nbformat": 4,
 "nbformat_minor": 1
}
